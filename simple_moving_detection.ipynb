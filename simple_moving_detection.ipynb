{
 "cells": [
  {
   "cell_type": "code",
   "execution_count": 1,
   "id": "f667a6b9",
   "metadata": {},
   "outputs": [],
   "source": [
    "import numpy as np\n",
    "import cv2 as cv"
   ]
  },
  {
   "cell_type": "code",
   "execution_count": 129,
   "id": "54c01ac8",
   "metadata": {},
   "outputs": [],
   "source": [
    "video = cv.VideoCapture('data/PETS09-S2L1-raw.webm')\n",
    "if video.isOpened():\n",
    "    img_prev = None\n",
    "    alpha = 0.5\n",
    "    while True:\n",
    "        # Get an image from 'video'\n",
    "        valid, img = video.read()\n",
    "        if not valid:\n",
    "            break\n",
    "        # Get the image difference\n",
    "        if img_prev is None:\n",
    "            img_prev = img.copy()\n",
    "            continue\n",
    "            \n",
    "        img_diff = 255-np.abs(img.astype(np.int32) - img_prev).astype(np.uint8) # Alternative) cv.absdiff()\n",
    "        mask = cv.inRange(img_diff, (0,0,0), (230,230,230)) # make mask\n",
    "        res = cv.bitwise_and(img_diff, img_diff, mask=mask) \n",
    "        img_prev = img.copy()        \n",
    "        blend = (alpha * img + (1 - alpha) * res).astype(np.uint8)\n",
    "        \n",
    "        # Show all images\n",
    "        merge = np.hstack((img, res, blend))\n",
    "        cv.imshow('simple_moving_detection', merge)\n",
    "        # Process the key event\n",
    "        key = cv.waitKey(1)\n",
    "        if key == ord(' '):\n",
    "            key = cv.waitKey()\n",
    "        if key == 27: # ESC\n",
    "            break\n",
    "    cv.destroyAllWindows() "
   ]
  },
  {
   "cell_type": "code",
   "execution_count": null,
   "id": "a8834f94",
   "metadata": {},
   "outputs": [],
   "source": []
  }
 ],
 "metadata": {
  "kernelspec": {
   "display_name": "openCV",
   "language": "python",
   "name": "opencv"
  },
  "language_info": {
   "codemirror_mode": {
    "name": "ipython",
    "version": 3
   },
   "file_extension": ".py",
   "mimetype": "text/x-python",
   "name": "python",
   "nbconvert_exporter": "python",
   "pygments_lexer": "ipython3",
   "version": "3.10.9"
  }
 },
 "nbformat": 4,
 "nbformat_minor": 5
}
